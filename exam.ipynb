{
 "cells": [
  {
   "cell_type": "markdown",
   "id": "e589a6e4",
   "metadata": {},
   "source": [
    "# Programming with Python Course Exam: NR Gilfillan"
   ]
  },
  {
   "cell_type": "markdown",
   "id": "56bec7a5",
   "metadata": {},
   "source": [
    "The following code has been written to fulfill the requirements for the course Assessment/Exam. Comments will be made inside the code as well as markdowns before specific sections of the code. "
   ]
  },
  {
   "cell_type": "markdown",
   "id": "9da72dfb",
   "metadata": {},
   "source": [
    "The following section installs all of the required packages. This code was written on a Windows 10 computer. "
   ]
  },
  {
   "cell_type": "code",
   "execution_count": 6,
   "id": "6355399c",
   "metadata": {},
   "outputs": [
    {
     "name": "stdout",
     "output_type": "stream",
     "text": [
      "Requirement already satisfied: pandas in c:\\users\\natha\\anaconda3\\envs\\exam\\lib\\site-packages (1.3.2)\n",
      "Requirement already satisfied: python-dateutil>=2.7.3 in c:\\users\\natha\\anaconda3\\envs\\exam\\lib\\site-packages (from pandas) (2.8.2)\n",
      "Requirement already satisfied: numpy>=1.17.3 in c:\\users\\natha\\anaconda3\\envs\\exam\\lib\\site-packages (from pandas) (1.21.2)\n",
      "Requirement already satisfied: pytz>=2017.3 in c:\\users\\natha\\anaconda3\\envs\\exam\\lib\\site-packages (from pandas) (2021.1)\n",
      "Requirement already satisfied: six>=1.5 in c:\\users\\natha\\anaconda3\\envs\\exam\\lib\\site-packages (from python-dateutil>=2.7.3->pandas) (1.16.0)\n",
      "Requirement already satisfied: numpy in c:\\users\\natha\\anaconda3\\envs\\exam\\lib\\site-packages (1.21.2)\n",
      "Requirement already satisfied: sqlalchemy in c:\\users\\natha\\anaconda3\\envs\\exam\\lib\\site-packages (1.4.23)\n",
      "Requirement already satisfied: greenlet!=0.4.17 in c:\\users\\natha\\anaconda3\\envs\\exam\\lib\\site-packages (from sqlalchemy) (1.1.1)\n",
      "Collecting matplotlib\n",
      "  Downloading matplotlib-3.4.3-cp39-cp39-win_amd64.whl (7.1 MB)\n",
      "Collecting pillow>=6.2.0\n",
      "  Downloading Pillow-8.3.1-1-cp39-cp39-win_amd64.whl (3.2 MB)\n",
      "Requirement already satisfied: python-dateutil>=2.7 in c:\\users\\natha\\anaconda3\\envs\\exam\\lib\\site-packages (from matplotlib) (2.8.2)\n",
      "Collecting cycler>=0.10\n",
      "  Using cached cycler-0.10.0-py2.py3-none-any.whl (6.5 kB)\n",
      "Requirement already satisfied: pyparsing>=2.2.1 in c:\\users\\natha\\anaconda3\\envs\\exam\\lib\\site-packages (from matplotlib) (2.4.7)\n",
      "Collecting kiwisolver>=1.0.1\n",
      "  Downloading kiwisolver-1.3.1-cp39-cp39-win_amd64.whl (51 kB)\n",
      "Requirement already satisfied: numpy>=1.16 in c:\\users\\natha\\anaconda3\\envs\\exam\\lib\\site-packages (from matplotlib) (1.21.2)\n",
      "Requirement already satisfied: six in c:\\users\\natha\\anaconda3\\envs\\exam\\lib\\site-packages (from cycler>=0.10->matplotlib) (1.16.0)\n",
      "Installing collected packages: pillow, kiwisolver, cycler, matplotlib\n",
      "Successfully installed cycler-0.10.0 kiwisolver-1.3.1 matplotlib-3.4.3 pillow-8.3.1\n"
     ]
    }
   ],
   "source": [
    "!pip install pandas\n",
    "!pip install numpy\n",
    "!pip install sqlalchemy\n",
    "!pip install matplotlib"
   ]
  },
  {
   "cell_type": "markdown",
   "id": "daf8f5d6",
   "metadata": {},
   "source": [
    "Setup/import the packages to be used"
   ]
  },
  {
   "cell_type": "code",
   "execution_count": 180,
   "id": "269924e4",
   "metadata": {},
   "outputs": [],
   "source": [
    "import pandas as pd\n",
    "import matplotlib.pyplot as plt\n",
    "import numpy as np\n",
    "\n",
    "import sqlite3\n",
    "from sqlite3 import Error\n",
    "from sqlalchemy import create_engine"
   ]
  },
  {
   "cell_type": "markdown",
   "id": "d20f8340",
   "metadata": {},
   "source": [
    "The following section will set up the function and classes to be used in the project"
   ]
  },
  {
   "cell_type": "code",
   "execution_count": 100,
   "id": "41f91ef0",
   "metadata": {},
   "outputs": [],
   "source": [
    "#SQL create connection function\n",
    "def create_connection(db_file):\n",
    "    \"\"\" create a database connection to a SQLite database \"\"\"\n",
    "    conn = None\n",
    "    try:\n",
    "        conn = sqlite3.connect(db_file)\n",
    "        print(\"Successful connection/creation of SQL database, SQL version: \" + sqlite3.version)\n",
    "    except Error as e:\n",
    "        print(e)\n",
    "    finally:\n",
    "        if conn:\n",
    "            conn.close()\n",
    "\n",
    "#SQL create table function\n",
    "def create_table(db_file,tablename,colums):\n",
    "    \"\"\" create a database connection to a SQLite database \"\"\"\n",
    "    conn = None\n",
    "    try:\n",
    "        conn = sqlite3.connect(db_file)\n",
    "        sqlite_create_table_query = '''CREATE TABLE '''+ tablename +''' ( '''+ colums + ''' );'''\n",
    "        cursor = conn.cursor()\n",
    "        cursor.execute(sqlite_create_table_query)\n",
    "        conn.commit()\n",
    "        \n",
    "    except Error as e:\n",
    "        print(\"Was unable to perform operation on SQL database: \" + db_file + \" due to: \")\n",
    "        print(e)\n",
    "    finally:\n",
    "        if conn:\n",
    "            cursor.close()\n",
    "            conn.close()"
   ]
  },
  {
   "cell_type": "markdown",
   "id": "d9e45dbb",
   "metadata": {},
   "source": [
    "The following section loads the data from the csv files for analysis.\n"
   ]
  },
  {
   "cell_type": "code",
   "execution_count": 179,
   "id": "482306bc",
   "metadata": {},
   "outputs": [
    {
     "name": "stdout",
     "output_type": "stream",
     "text": [
      "     X   Y1   Y2   Y3   Y4\n",
      "0    1    2    2    2    2\n",
      "1    2    4    4    4    4\n",
      "2    3    6    6    6    6\n",
      "3    4    8    8    8    8\n",
      "4    5   10   10   10   10\n",
      "..  ..  ...  ...  ...  ...\n",
      "94  95  190  190  190  190\n",
      "95  96  192  192  192  192\n",
      "96  97  194  194  194  194\n",
      "97  98  196  196  196  196\n",
      "98  99  198  198  198  198\n",
      "\n",
      "[99 rows x 5 columns]\n",
      "     X    Y\n",
      "0    1    2\n",
      "1    2    4\n",
      "2    3    6\n",
      "3    4    8\n",
      "4    5   10\n",
      "..  ..  ...\n",
      "94  95  190\n",
      "95  96  192\n",
      "96  97  194\n",
      "97  98  196\n",
      "98  99  198\n",
      "\n",
      "[99 rows x 2 columns]\n",
      "     X   Y1   Y2   Y3   Y4\n",
      "0    1    2    2    2    2\n",
      "1    2    4    4    4    4\n",
      "2    3    6    6    6    6\n",
      "3    4    8    8    8    8\n",
      "4    5   10   10   10   10\n",
      "..  ..  ...  ...  ...  ...\n",
      "94  95  190  190  190  190\n",
      "95  96  192  192  192  192\n",
      "96  97  194  194  194  194\n",
      "97  98  196  196  196  196\n",
      "98  99  198  198  198  198\n",
      "\n",
      "[99 rows x 5 columns]\n"
     ]
    }
   ],
   "source": [
    "#load training datasets\n",
    "Training_dictionary = {}\n",
    "for number in range(1,5):\n",
    "    td = pd.read_csv ('Train' + str(number) +'.csv')\n",
    "    Training_dictionary[\"Set%s\" %number] = td.rename(columns={'Y': 'Y' + str(number)})\n",
    "\n",
    "#Combine training data into a single object\n",
    "for key in Test_dictionary.keys():\n",
    "    if key==\"Set1\":\n",
    "        Trainingdata=Training_dictionary[\"Set1\"]\n",
    "    else:\n",
    "        Trainingdata = pd.merge(Trainingdata,Training_dictionary[key], on=[\"X\"])\n",
    "print(Trainingdata)\n",
    "\n",
    "#load test datasets\n",
    "Testdata = pd.read_csv ('Test.csv')\n",
    "print(Testdata)\n",
    "\n",
    "#load ideal functions\n",
    "Ideal_dictionary = {}\n",
    "for number in range(1,5):\n",
    "    td = pd.read_csv ('Ideal' + str(number) +'.csv')\n",
    "    Ideal_dictionary[\"Set%s\" %number] = td.rename(columns={'Y': 'Y' + str(number)})\n",
    "\n",
    "    \n",
    "for key in Ideal_dictionary.keys():\n",
    "    if key==\"Set1\":\n",
    "        Idealdata=Ideal_dictionary[\"Set1\"]\n",
    "    else:\n",
    "        Idealdata = pd.merge(Idealdata,Ideal_dictionary[key], on=[\"X\"])\n",
    "print(Idealdata)    \n"
   ]
  },
  {
   "cell_type": "code",
   "execution_count": 134,
   "id": "e5a824b3",
   "metadata": {},
   "outputs": [
    {
     "name": "stdout",
     "output_type": "stream",
     "text": [
      "     X   Y1\n",
      "0    1    2\n",
      "1    2    4\n",
      "2    3    6\n",
      "3    4    8\n",
      "4    5   10\n",
      "..  ..  ...\n",
      "94  95  190\n",
      "95  96  192\n",
      "96  97  194\n",
      "97  98  196\n",
      "98  99  198\n",
      "\n",
      "[99 rows x 2 columns]\n"
     ]
    }
   ],
   "source": [
    "Training_dictionary = Training_dictionary[\"Set1\"].rename(columns={'Y': 'Y' + str(1)})\n",
    "print(Training_dictionary)"
   ]
  },
  {
   "cell_type": "markdown",
   "id": "ba1526bd",
   "metadata": {},
   "source": [
    "Create SQLite Databases from the imported data sets"
   ]
  },
  {
   "cell_type": "code",
   "execution_count": 186,
   "id": "771785e2",
   "metadata": {
    "scrolled": true
   },
   "outputs": [
    {
     "name": "stdout",
     "output_type": "stream",
     "text": [
      "Successful connection/creation of SQL database, SQL version: 2.6.0\n",
      "Was unable to perform operation on SQL databaseexamsqlite.db due to: \n",
      "table Training_Data already exists\n",
      "Was unable to perform operation on SQL databaseexamsqlite.db due to: \n",
      "table Ideal_Functions already exists\n",
      "Was unable to perform operation on SQL databaseexamsqlite.db due to: \n",
      "table Test_data already exists\n"
     ]
    }
   ],
   "source": [
    "#Create SQL Database file\n",
    "create_connection(r\"examsqlite.db\")\n",
    "\n",
    "#insert training data Table into SQL Database - TABLENAME: Training_Data\n",
    "column_tocreate =\"X INTEGER UNIQUE PRIMARY KEY,Y1_training_func REAL NOT NULL,Y2_training_func REAL NOT NULL,Y3_training_func REAL NOT NULL,Y4_training_func REAL NOT NULL\"\n",
    "create_table(r\"examsqlite.db\",r\"Training_Data\",column_tocreate)\n",
    "\n",
    "#insert ideal functions data Table into SQL Database - TABLENAME: Ideal_Functions\n",
    "column_tocreate =\"X INTEGER UNIQUE PRIMARY KEY\"\n",
    "\n",
    "for number in range(1,51):\n",
    "    column_tocreate=column_tocreate + \",Y\" + str(number) + \" REAL NOT NULL\"\n",
    "create_table(r\"examsqlite.db\",r\"Ideal_Functions\",column_tocreate)\n",
    "\n",
    "#insert testing data Table into SQL Database - TABLENAME: Test\n",
    "column_tocreate =\"X INTEGER UNIQUE PRIMARY KEY,Y_test_function REAL NOT NULL,Delta_y_test_fucntion REAL NOT NULL,no_of_ideal_function REAL NOT NULL\"\n",
    "create_table(r\"examsqlite.db\",r\"Test_data\",column_tocreate)\n",
    "\n",
    "#Write data from the imported csv datafiles into the SQL Tables\n",
    "conn = sqlite3.connect(\"examsqlite.db\")\n",
    "Trainingdata.to_sql('Training_Data', con=conn, if_exists='replace')\n",
    "Idealdata.to_sql('Idealdata', con=conn, if_exists='replace')\n",
    "Testdata.to_sql('Test_data', con=conn, if_exists='replace')\n",
    "conn.close()"
   ]
  },
  {
   "cell_type": "code",
   "execution_count": 171,
   "id": "eeafaafd",
   "metadata": {
    "scrolled": false
   },
   "outputs": [
    {
     "name": "stdout",
     "output_type": "stream",
     "text": [
      "Set1\n",
      "Set2\n",
      "Set3\n",
      "Set4\n",
      "     X   Y1   Y2   Y3   Y4\n",
      "0    1    2    2    2    2\n",
      "1    2    4    4    4    4\n",
      "2    3    6    6    6    6\n",
      "3    4    8    8    8    8\n",
      "4    5   10   10   10   10\n",
      "..  ..  ...  ...  ...  ...\n",
      "94  95  190  190  190  190\n",
      "95  96  192  192  192  192\n",
      "96  97  194  194  194  194\n",
      "97  98  196  196  196  196\n",
      "98  99  198  198  198  198\n",
      "\n",
      "[99 rows x 5 columns]\n"
     ]
    }
   ],
   "source": [
    "Testdata=[]\n",
    "#Testdata=Test_dictionary[\"Set1\"].iloc[:,0]\n",
    "#Testdata.array\n",
    "#for key in Test_dictionary.keys():\n",
    "#    print(key)\n",
    "#print(Testdata)\n",
    "\n",
    "for key in Test_dictionary.keys():\n",
    "    print(key)\n",
    "    if key==\"Set1\":\n",
    "        Testdata=Training_dictionary[\"Set1\"]\n",
    "    else:\n",
    "        Testdata = pd.merge(Testdata,Training_dictionary[key], on=[\"X\"])\n",
    "\n",
    "#Testdata = pd.concat(Training_dictionary, axis =1)\n",
    "#Testdata = pd.merge(Training_dictionary[\"Set1\"],Training_dictionary[\"Set2\"], on=[\"X\"])\n",
    "#print(Training_dictionary[\"Set1\"])\n",
    "print(Testdata)"
   ]
  },
  {
   "cell_type": "code",
   "execution_count": 137,
   "id": "a49dc7a6",
   "metadata": {},
   "outputs": [
    {
     "name": "stdout",
     "output_type": "stream",
     "text": [
      "      X    Y\n",
      "0     1    2\n",
      "1     2    4\n",
      "2     3    6\n",
      "3     4    8\n",
      "4     5   10\n",
      "..   ..  ...\n",
      "193  95  190\n",
      "194  96  192\n",
      "195  97  194\n",
      "196  98  196\n",
      "197  99  198\n",
      "\n",
      "[198 rows x 2 columns]\n"
     ]
    }
   ],
   "source": [
    "Testdata = pd.concat([Test_dictionary[\"Set1\"], Test_dictionary[\"Set2\"]], ignore_index=True)\n",
    "print(Testdata)"
   ]
  },
  {
   "cell_type": "code",
   "execution_count": 107,
   "id": "9a06cb4a",
   "metadata": {},
   "outputs": [
    {
     "name": "stdout",
     "output_type": "stream",
     "text": [
      "   X  Y_test_function  Delta_y_test_fucntion  no_of_ideal_function\n",
      "0  1              2.0                    3.0                   4.0\n"
     ]
    }
   ],
   "source": [
    "\n",
    "\n",
    "\n",
    "\n",
    "\n",
    "\n",
    "conn = sqlite3.connect(r\"examsqlite.db\")\n",
    "df = pd.read_sql_query(\"SELECT * from Test\", conn)\n",
    "Test_dictionary\n",
    "surveys2002.to_sql(\"Test\", conn, if_exists=\"replace\")\n",
    "# Verify that result of SQL query is stored in the dataframe\n",
    "print(df.head())\n",
    "\n",
    "con.close()"
   ]
  },
  {
   "cell_type": "markdown",
   "id": "8de00738",
   "metadata": {},
   "source": [
    "Analysis and run regressions on the training data against the "
   ]
  },
  {
   "cell_type": "code",
   "execution_count": null,
   "id": "751aa0c6",
   "metadata": {},
   "outputs": [],
   "source": []
  },
  {
   "cell_type": "code",
   "execution_count": 42,
   "id": "3878cd86",
   "metadata": {
    "scrolled": true
   },
   "outputs": [
    {
     "name": "stdout",
     "output_type": "stream",
     "text": [
      "0      1\n",
      "1      2\n",
      "2      3\n",
      "3      4\n",
      "4      5\n",
      "      ..\n",
      "94    95\n",
      "95    96\n",
      "96    97\n",
      "97    98\n",
      "98    99\n",
      "Name: X, Length: 99, dtype: int64\n"
     ]
    },
    {
     "data": {
      "text/plain": [
       "pandas.core.series.Series"
      ]
     },
     "execution_count": 42,
     "metadata": {},
     "output_type": "execute_result"
    }
   ],
   "source": [
    "print(Training_dictionary[\"Set1\"].iloc[:,0])\n",
    "type(Training_dictionary[\"Set1\"].iloc[:,1])"
   ]
  },
  {
   "cell_type": "code",
   "execution_count": 45,
   "id": "0e107afe",
   "metadata": {},
   "outputs": [
    {
     "data": {
      "image/png": "[encoded data removed]",
      "text/plain": [
       "<Figure size 432x288 with 1 Axes>"
      ]
     },
     "metadata": {
      "needs_background": "light"
     },
     "output_type": "display_data"
    }
   ],
   "source": [
    "#Test plot line\n",
    "plt.plot(Training_dictionary[\"Set1\"].iloc[:,0],Training_dictionary[\"Set1\"].iloc[:,1])\n",
    "plt.ylabel('some numbers')\n",
    "plt.show()"
   ]
  },
  {
   "cell_type": "code",
   "execution_count": 49,
   "id": "948917e0",
   "metadata": {},
   "outputs": [
    {
     "data": {
      "image/png": "[encoded data removed]",
      "text/plain": [
       "<Figure size 432x288 with 1 Axes>"
      ]
     },
     "metadata": {},
     "output_type": "display_data"
    }
   ],
   "source": [
    "#Test plot scatter with line\n",
    "\n",
    "plt.plot(Training_dictionary[\"Set1\"].iloc[0:10,0],Training_dictionary[\"Set1\"].iloc[0:10,1],Training_dictionary[\"Set1\"].iloc[0:10,0],Training_dictionary[\"Set1\"].iloc[0:10,1],\"o\")\n",
    "plt.ylabel('some numbers')\n",
    "plt.show()"
   ]
  },
  {
   "cell_type": "code",
   "execution_count": null,
   "id": "b9595ec3",
   "metadata": {},
   "outputs": [],
   "source": []
  }
 ],
 "metadata": {
  "kernelspec": {
   "display_name": "exam",
   "language": "python",
   "name": "exam"
  },
  "language_info": {
   "codemirror_mode": {
    "name": "ipython",
    "version": 3
   },
   "file_extension": ".py",
   "mimetype": "text/x-python",
   "name": "python",
   "nbconvert_exporter": "python",
   "pygments_lexer": "ipython3",
   "version": "3.9.6"
  }
 },
 "nbformat": 4,
 "nbformat_minor": 5
}
